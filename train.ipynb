{
 "cells": [
  {
   "cell_type": "code",
   "execution_count": 12,
   "id": "6225f925-b124-4075-a8ce-a4d7d8add7bf",
   "metadata": {
    "ExecuteTime": {
     "end_time": "2024-05-27T13:18:26.543488700Z",
     "start_time": "2024-05-27T13:18:26.511921500Z"
    }
   },
   "outputs": [],
   "source": [
    "import torch\n",
    "from tqdm import tqdm\n",
    "from models.cnn import CNN\n",
    "from data.dataset import SkinDataset, NonSkinDataset\n",
    "from settings import *\n",
    "from utils.data_augmentation import *\n",
    "from torch.utils.data import DataLoader, ConcatDataset\n",
    "import torch.nn as nn\n",
    "import torch.optim as optim\n",
    "from utils.evaluation import evaluate_model, update_csv\n",
    "from utils.evaluation import calculate_metrics\n",
    "\n",
    "import numpy as np"
   ]
  },
  {
   "cell_type": "code",
   "execution_count": 13,
   "outputs": [],
   "source": [
    "model_name = 'modelb32e1_more_data_arch.pth'"
   ],
   "metadata": {
    "collapsed": false,
    "ExecuteTime": {
     "end_time": "2024-05-27T13:18:26.543488700Z",
     "start_time": "2024-05-27T13:18:26.526758200Z"
    }
   },
   "id": "1ade528280d63f6c"
  },
  {
   "cell_type": "code",
   "execution_count": 14,
   "id": "380b5918-58cb-46a0-969f-6b7a15318fee",
   "metadata": {
    "ExecuteTime": {
     "end_time": "2024-05-27T13:18:26.589768200Z",
     "start_time": "2024-05-27T13:18:26.533827800Z"
    }
   },
   "outputs": [],
   "source": [
    "device = torch.device('cuda' if torch.cuda.is_available() else 'cpu')"
   ]
  },
  {
   "cell_type": "code",
   "execution_count": 15,
   "id": "d555efbfc0937a04",
   "metadata": {
    "collapsed": false,
    "ExecuteTime": {
     "end_time": "2024-05-27T13:18:27.463628900Z",
     "start_time": "2024-05-27T13:18:26.543488700Z"
    }
   },
   "outputs": [],
   "source": [
    "skin_file_paths = collect_file_paths(os.path.join(DATA_DIR, \"SKIN\"))\n",
    "not_skin_file_paths = collect_file_paths(os.path.join(DATA_DIR, \"NS\"))"
   ]
  },
  {
   "cell_type": "code",
   "execution_count": 16,
   "id": "450994f4-1f4d-4ffe-9f49-2690fb978608",
   "metadata": {
    "ExecuteTime": {
     "end_time": "2024-05-27T13:18:28.114692Z",
     "start_time": "2024-05-27T13:18:27.468136200Z"
    }
   },
   "outputs": [],
   "source": [
    "torch.manual_seed(42)\n",
    "\n",
    "skin_indices = torch.randperm(len(skin_file_paths))\n",
    "skin_file_paths = [skin_file_paths[i] for i in skin_indices]\n",
    "\n",
    "not_skin_indices = torch.randperm(len(not_skin_file_paths))\n",
    "not_skin_file_paths = [not_skin_file_paths[i] for i in not_skin_indices]"
   ]
  },
  {
   "cell_type": "code",
   "execution_count": 17,
   "id": "96cf2188-57f7-4590-a6b0-efbecc97a850",
   "metadata": {
    "ExecuteTime": {
     "end_time": "2024-05-27T13:18:28.122853100Z",
     "start_time": "2024-05-27T13:18:28.122853100Z"
    }
   },
   "outputs": [],
   "source": [
    "train_skin_file_paths = skin_file_paths[:NUM_TRAIN_SKIN]\n",
    "train_not_skin_file_paths = not_skin_file_paths[:NUM_TRAIN_NOT_SKIN]\n",
    "\n",
    "test_skin_file_paths = skin_file_paths[NUM_TRAIN_SKIN:NUM_TRAIN_SKIN + NUM_TEST_SKIN]\n",
    "test_not_skin_file_paths = not_skin_file_paths[NUM_TRAIN_NOT_SKIN:\n",
    "                                               NUM_TRAIN_NOT_SKIN + NUM_TEST_NOT_SKIN]\n",
    "\n",
    "val_skin_file_paths = skin_file_paths[NUM_TRAIN_SKIN + NUM_TEST_SKIN:]\n",
    "val_not_skin_file_paths = not_skin_file_paths[NUM_TRAIN_NOT_SKIN +\n",
    "                                              NUM_TEST_NOT_SKIN:]"
   ]
  },
  {
   "cell_type": "code",
   "execution_count": 18,
   "id": "8452747a-b425-4f56-a2b1-163aa2fe90f0",
   "metadata": {
    "ExecuteTime": {
     "end_time": "2024-05-27T13:18:28.141552800Z",
     "start_time": "2024-05-27T13:18:28.122853100Z"
    }
   },
   "outputs": [],
   "source": [
    "train_skin_dataset = SkinDataset(train_skin_file_paths)\n",
    "train_not_skin_dataset = NonSkinDataset(train_not_skin_file_paths)\n",
    "\n",
    "test_skin_dataset = SkinDataset(test_skin_file_paths)\n",
    "test_not_skin_dataset = NonSkinDataset(test_not_skin_file_paths)\n",
    "\n",
    "val_skin_dataset = SkinDataset(val_skin_file_paths)\n",
    "val_not_skin_dataset = NonSkinDataset(val_not_skin_file_paths)"
   ]
  },
  {
   "cell_type": "code",
   "execution_count": 19,
   "id": "358ec2c4-c260-4d74-895d-94df219c7543",
   "metadata": {
    "ExecuteTime": {
     "end_time": "2024-05-27T13:18:28.146206200Z",
     "start_time": "2024-05-27T13:18:28.134041900Z"
    }
   },
   "outputs": [],
   "source": [
    "train_dataset = ConcatDataset([train_skin_dataset, train_not_skin_dataset])\n",
    "test_dataset = ConcatDataset([test_skin_dataset, test_not_skin_dataset])\n",
    "val_dataset = ConcatDataset([val_skin_dataset, val_not_skin_dataset])"
   ]
  },
  {
   "cell_type": "code",
   "execution_count": 20,
   "id": "3ee9c483-920a-40b3-87a1-59b38b631ed9",
   "metadata": {
    "ExecuteTime": {
     "end_time": "2024-05-27T13:18:28.178428500Z",
     "start_time": "2024-05-27T13:18:28.146206200Z"
    }
   },
   "outputs": [],
   "source": [
    "train_loader = DataLoader(train_dataset, batch_size=BATCH_SIZE, shuffle=True)\n",
    "test_loader = DataLoader(test_dataset, batch_size=BATCH_SIZE, shuffle=False)\n",
    "val_loader = DataLoader(val_dataset, batch_size=BATCH_SIZE, shuffle=False)"
   ]
  },
  {
   "cell_type": "code",
   "execution_count": 21,
   "id": "5e24cebb",
   "metadata": {
    "ExecuteTime": {
     "end_time": "2024-05-27T13:18:28.178428500Z",
     "start_time": "2024-05-27T13:18:28.162361500Z"
    }
   },
   "outputs": [],
   "source": [
    "def train_cnn(train_loader, val_loader, num_epochs=NUM_EPOCHS, save_dir=\"models\", save_path=model_name):\n",
    "    device = torch.device(\"cuda\" if torch.cuda.is_available() else \"cpu\")\n",
    "    model = CNN().to(device)\n",
    "    criterion = nn.BCELoss()\n",
    "    optimizer = optim.RMSprop(model.parameters(), lr=0.001)\n",
    "    \n",
    "    os.makedirs(save_dir, exist_ok=True)\n",
    "    save_path = os.path.join(save_dir, save_path)\n",
    "    best_val_loss = float('inf')\n",
    "    \n",
    "    for epoch in range(num_epochs):\n",
    "        model.train()\n",
    "        total_loss = 0.0\n",
    "        all_outputs = []\n",
    "        all_targets = []\n",
    "\n",
    "        # Create a tqdm progress bar for training\n",
    "        with tqdm(total=len(train_loader), desc=f\"Epoch {epoch+1}/{num_epochs}\", unit='batch') as pbar:\n",
    "            for _, (inputs, targets) in enumerate(train_loader):\n",
    "                inputs, targets = inputs.to(device), targets.to(device)\n",
    "                optimizer.zero_grad()\n",
    "                outputs = model(inputs)\n",
    "                targets = targets.float().view(-1, 1)\n",
    "                loss = criterion(outputs, targets)\n",
    "                loss.backward()\n",
    "                optimizer.step()\n",
    "                total_loss += loss.item()\n",
    "                \n",
    "                all_outputs.append(outputs.detach().cpu().numpy())\n",
    "                all_targets.append(targets.cpu().numpy())\n",
    "\n",
    "                pbar.set_postfix(loss=loss.item())\n",
    "                pbar.update(1)\n",
    "\n",
    "        avg_loss = total_loss / len(train_loader)\n",
    "        all_outputs = np.concatenate(all_outputs, axis=0)\n",
    "        all_targets = np.concatenate(all_targets, axis=0)\n",
    "        accuracy, precision, recall, f1, mcc, iou = calculate_metrics(all_outputs, all_targets)\n",
    "        print(f\"Epoch [{epoch+1}/{num_epochs}] - Average Training Loss: {avg_loss:.4f}\")\n",
    "        print(f\"Training Accuracy: {accuracy:.4f}\")\n",
    "        print(f\"Training Precision: {precision:.4f}\")\n",
    "        print(f\"Training Recall: {recall:.4f}\")\n",
    "        print(f\"Training F1 Score: {f1:.4f}\")\n",
    "        print(f\"Training MCC: {mcc:.4f}\")\n",
    "        print(f\"Training IoU: {iou:.4f}\")\n",
    "    \n",
    "        # Evaluate on validation/test set\n",
    "        model.eval()\n",
    "        avg_val_loss, val_accuracy, val_precision, val_recall, val_f1, val_mcc, val_iou = evaluate_model(\n",
    "            model, f\"model:{model_name}, Validation/Test:\", val_loader, criterion, device\n",
    "        )\n",
    "        print(f\"Epoch [{epoch+1}/{num_epochs}] - Validation Loss: {avg_val_loss:.4f}\")\n",
    "        print(f\"Validation Accuracy: {val_accuracy:.4f}\")\n",
    "        print(f\"Validation Precision: {val_precision:.4f}\")\n",
    "        print(f\"Validation Recall: {val_recall:.4f}\")\n",
    "        print(f\"Validation F1 Score: {val_f1:.4f}\")\n",
    "        print(f\"Validation MCC: {val_mcc:.4f}\")\n",
    "        print(f\"Validation IoU: {val_iou:.4f}\")\n",
    "\n",
    "        # Save the model if it has the best validation loss so far\n",
    "        if avg_val_loss < best_val_loss:\n",
    "            best_val_loss = avg_val_loss\n",
    "            torch.save(model.state_dict(), save_path)\n",
    "            if epoch >= 1:\n",
    "                update_csv(model_name, avg_val_loss, val_accuracy, val_precision, val_recall, val_f1, val_mcc, val_iou)\n",
    "            print(f\"Model saved to {save_path}, epoch no {epoch + 1}\")\n",
    "\n",
    "    print(\"Training complete!\")"
   ]
  },
  {
   "cell_type": "code",
   "execution_count": null,
   "id": "9e66703c-abbe-4055-b8ea-43691d7d62b9",
   "metadata": {
    "is_executing": true,
    "ExecuteTime": {
     "start_time": "2024-05-27T13:18:28.172921700Z"
    }
   },
   "outputs": [
    {
     "name": "stderr",
     "output_type": "stream",
     "text": [
      "Epoch 1/1:  40%|███▉      | 1620/4094 [34:41<29:10,  1.41batch/s, loss=0.232]   "
     ]
    }
   ],
   "source": [
    "train_cnn(train_loader=train_loader, val_loader=val_loader, num_epochs=NUM_EPOCHS)"
   ]
  },
  {
   "cell_type": "code",
   "execution_count": null,
   "id": "7b03f2e8",
   "metadata": {
    "is_executing": true
   },
   "outputs": [],
   "source": [
    "# model = CNN()\n",
    "# model.load_state_dict(torch.load(f'models/{model_name}'))\n",
    "# model.eval()\n",
    "# \n",
    "# evaluate_model(model, f'models/{model_name} - Test', test_loader, nn.BCELoss(), device)"
   ]
  }
 ],
 "metadata": {
  "kernelspec": {
   "display_name": "skin-detection-kernel",
   "language": "python",
   "name": "skin-detection-kernel"
  },
  "language_info": {
   "codemirror_mode": {
    "name": "ipython",
    "version": 3
   },
   "file_extension": ".py",
   "mimetype": "text/x-python",
   "name": "python",
   "nbconvert_exporter": "python",
   "pygments_lexer": "ipython3",
   "version": "3.12.2"
  }
 },
 "nbformat": 4,
 "nbformat_minor": 5
}
